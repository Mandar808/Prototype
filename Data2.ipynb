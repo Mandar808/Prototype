{
 "cells": [
  {
   "cell_type": "code",
   "execution_count": 1,
   "id": "bd5324be-b390-4698-822e-14e5eec15c7c",
   "metadata": {},
   "outputs": [
    {
     "name": "stdout",
     "output_type": "stream",
     "text": [
      "Total Tumorous Images: 18834\n",
      "Total Non-Tumorous Images: 39804\n"
     ]
    }
   ],
   "source": [
    "import os\n",
    "import numpy as np\n",
    "import cv2\n",
    "\n",
    "# Paths to the folders\n",
    "train_images_path = r'C:\\Users\\91741\\Downloads\\Implement\\train_images\\train_images'\n",
    "train_masks_path = r'C:\\Users\\91741\\Downloads\\Implement\\train_masks\\train_masks'\n",
    "\n",
    "# Counters for tumorous and non-tumorous\n",
    "tumorous_images = []\n",
    "non_tumorous_images = []\n",
    "\n",
    "# Iterate over the mask files and classify based on pixel values\n",
    "for mask_file in sorted(os.listdir(train_masks_path)):\n",
    "    mask_path = os.path.join(train_masks_path, mask_file)\n",
    "    mask = cv2.imread(mask_path, cv2.IMREAD_GRAYSCALE)\n",
    "    \n",
    "    # Check if the mask has any non-zero pixels (indicating a tumor)\n",
    "    if np.any(mask > 0):\n",
    "        tumorous_images.append(mask_file)\n",
    "    else:\n",
    "        non_tumorous_images.append(mask_file)\n",
    "\n",
    "print(f\"Total Tumorous Images: {len(tumorous_images)}\")\n",
    "print(f\"Total Non-Tumorous Images: {len(non_tumorous_images)}\")\n"
   ]
  },
  {
   "cell_type": "code",
   "execution_count": null,
   "id": "0a472aac-77cd-4dcb-99bf-7a4df34adf08",
   "metadata": {},
   "outputs": [],
   "source": []
  }
 ],
 "metadata": {
  "kernelspec": {
   "display_name": "Python 3 (ipykernel)",
   "language": "python",
   "name": "python3"
  },
  "language_info": {
   "codemirror_mode": {
    "name": "ipython",
    "version": 3
   },
   "file_extension": ".py",
   "mimetype": "text/x-python",
   "name": "python",
   "nbconvert_exporter": "python",
   "pygments_lexer": "ipython3",
   "version": "3.12.3"
  }
 },
 "nbformat": 4,
 "nbformat_minor": 5
}
